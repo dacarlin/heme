{
 "cells": [
  {
   "cell_type": "code",
   "execution_count": 11,
   "metadata": {
    "collapsed": true
   },
   "outputs": [],
   "source": [
    "%matplotlib inline\n",
    "import matplotlib.pyplot as plt \n",
    "import seaborn as sns "
   ]
  },
  {
   "cell_type": "markdown",
   "metadata": {},
   "source": [
    "# Molecular modeling  \n",
    "\n",
    "## About molecular modeling  \n",
    "\n",
    "## How molecular modeling works \n",
    "\n",
    "### The `Pose` object \n",
    "\n",
    "The pose object holds all of the information for a protein structure, including conformation and scoring. \n",
    "\n",
    "### Scoring\n",
    "\n",
    "#### Atom-level scoring \n",
    "\n",
    "There are four fundemental forces at play for molecules. Gravity, strong nuclear, electroweak we ignore. That leaves electrostatics. \n",
    "\n",
    "##### Coulomb forces \n",
    "\n",
    "Functional form \n",
    "\n",
    "$$G\\frac{q_1q_2}{r^2}$$\n",
    "\n",
    "##### Lennard–Jones potential \n",
    "\n",
    "Functional form \n",
    "\n",
    "$$\n",
    "\\epsilon [(\\frac{r_m}{r})^6 - 2(\\frac{r_m}{r})^{12}]\n",
    "$$"
   ]
  },
  {
   "cell_type": "markdown",
   "metadata": {
    "collapsed": true
   },
   "source": [
    "Let's examine the Lennard-Jones potentials for some of the different atom types that are available in `trust`. "
   ]
  },
  {
   "cell_type": "code",
   "execution_count": 12,
   "metadata": {},
   "outputs": [
    {
     "data": {
      "text/html": [
       "<div>\n",
       "<table border=\"1\" class=\"dataframe\">\n",
       "  <thead>\n",
       "    <tr style=\"text-align: right;\">\n",
       "      <th></th>\n",
       "      <th>name</th>\n",
       "      <th>atom</th>\n",
       "      <th>lj_radius</th>\n",
       "      <th>lj_wdepth</th>\n",
       "      <th>lk_dgfree</th>\n",
       "      <th>lk_lambda</th>\n",
       "      <th>lk_volume</th>\n",
       "    </tr>\n",
       "  </thead>\n",
       "  <tbody>\n",
       "    <tr>\n",
       "      <th>0</th>\n",
       "      <td>CNH2</td>\n",
       "      <td>C</td>\n",
       "      <td>1.968297</td>\n",
       "      <td>0.094638</td>\n",
       "      <td>3.077030</td>\n",
       "      <td>3.5</td>\n",
       "      <td>13.500</td>\n",
       "    </tr>\n",
       "    <tr>\n",
       "      <th>1</th>\n",
       "      <td>COO</td>\n",
       "      <td>C</td>\n",
       "      <td>1.916661</td>\n",
       "      <td>0.141799</td>\n",
       "      <td>-3.332648</td>\n",
       "      <td>3.5</td>\n",
       "      <td>14.653</td>\n",
       "    </tr>\n",
       "    <tr>\n",
       "      <th>2</th>\n",
       "      <td>CH0</td>\n",
       "      <td>C</td>\n",
       "      <td>2.011760</td>\n",
       "      <td>0.062642</td>\n",
       "      <td>1.409284</td>\n",
       "      <td>3.5</td>\n",
       "      <td>8.998</td>\n",
       "    </tr>\n",
       "    <tr>\n",
       "      <th>3</th>\n",
       "      <td>CH1</td>\n",
       "      <td>C</td>\n",
       "      <td>2.011760</td>\n",
       "      <td>0.062642</td>\n",
       "      <td>-3.538387</td>\n",
       "      <td>3.5</td>\n",
       "      <td>10.686</td>\n",
       "    </tr>\n",
       "    <tr>\n",
       "      <th>4</th>\n",
       "      <td>CH2</td>\n",
       "      <td>C</td>\n",
       "      <td>2.011760</td>\n",
       "      <td>0.062642</td>\n",
       "      <td>-1.854658</td>\n",
       "      <td>3.5</td>\n",
       "      <td>18.331</td>\n",
       "    </tr>\n",
       "  </tbody>\n",
       "</table>\n",
       "</div>"
      ],
      "text/plain": [
       "   name atom  lj_radius lj_wdepth  lk_dgfree  lk_lambda  lk_volume\n",
       "0  CNH2    C   1.968297  0.094638   3.077030        3.5     13.500\n",
       "1   COO    C   1.916661  0.141799  -3.332648        3.5     14.653\n",
       "2   CH0    C   2.011760  0.062642   1.409284        3.5      8.998\n",
       "3   CH1    C   2.011760  0.062642  -3.538387        3.5     10.686\n",
       "4   CH2    C   2.011760  0.062642  -1.854658        3.5     18.331"
      ]
     },
     "execution_count": 12,
     "metadata": {},
     "output_type": "execute_result"
    }
   ],
   "source": [
    "import pandas \n",
    "import numpy as np \n",
    "\n",
    "df = pandas.read_csv('database/lennard_jones_params.csv', sep='\\s+')\n",
    "df.head()"
   ]
  },
  {
   "cell_type": "code",
   "execution_count": 10,
   "metadata": {},
   "outputs": [
    {
     "data": {
      "text/html": [
       "<div>\n",
       "<table border=\"1\" class=\"dataframe\">\n",
       "  <thead>\n",
       "    <tr style=\"text-align: right;\">\n",
       "      <th></th>\n",
       "      <th>lj_radius</th>\n",
       "      <th>lk_dgfree</th>\n",
       "      <th>lk_lambda</th>\n",
       "      <th>lk_volume</th>\n",
       "    </tr>\n",
       "    <tr>\n",
       "      <th>atom</th>\n",
       "      <th></th>\n",
       "      <th></th>\n",
       "      <th></th>\n",
       "      <th></th>\n",
       "    </tr>\n",
       "  </thead>\n",
       "  <tbody>\n",
       "    <tr>\n",
       "      <th>C</th>\n",
       "      <td>1.986318</td>\n",
       "      <td>1.165504</td>\n",
       "      <td>3.50000</td>\n",
       "      <td>14.898333</td>\n",
       "    </tr>\n",
       "    <tr>\n",
       "      <th>H</th>\n",
       "      <td>0.992687</td>\n",
       "      <td>0.000000</td>\n",
       "      <td>3.50000</td>\n",
       "      <td>0.000000</td>\n",
       "    </tr>\n",
       "    <tr>\n",
       "      <th>N</th>\n",
       "      <td>1.802452</td>\n",
       "      <td>-5.979359</td>\n",
       "      <td>5.12675</td>\n",
       "      <td>11.390729</td>\n",
       "    </tr>\n",
       "    <tr>\n",
       "      <th>O</th>\n",
       "      <td>1.534971</td>\n",
       "      <td>-7.194365</td>\n",
       "      <td>3.50000</td>\n",
       "      <td>10.763120</td>\n",
       "    </tr>\n",
       "    <tr>\n",
       "      <th>S</th>\n",
       "      <td>1.975967</td>\n",
       "      <td>0.792207</td>\n",
       "      <td>3.50000</td>\n",
       "      <td>20.440000</td>\n",
       "    </tr>\n",
       "    <tr>\n",
       "      <th>X</th>\n",
       "      <td>0.000000</td>\n",
       "      <td>0.000000</td>\n",
       "      <td>3.50000</td>\n",
       "      <td>0.000000</td>\n",
       "    </tr>\n",
       "  </tbody>\n",
       "</table>\n",
       "</div>"
      ],
      "text/plain": [
       "      lj_radius  lk_dgfree  lk_lambda  lk_volume\n",
       "atom                                            \n",
       "C      1.986318   1.165504    3.50000  14.898333\n",
       "H      0.992687   0.000000    3.50000   0.000000\n",
       "N      1.802452  -5.979359    5.12675  11.390729\n",
       "O      1.534971  -7.194365    3.50000  10.763120\n",
       "S      1.975967   0.792207    3.50000  20.440000\n",
       "X      0.000000   0.000000    3.50000   0.000000"
      ]
     },
     "execution_count": 10,
     "metadata": {},
     "output_type": "execute_result"
    }
   ],
   "source": [
    "df.groupby('atom').mean()"
   ]
  },
  {
   "cell_type": "markdown",
   "metadata": {},
   "source": []
  },
  {
   "cell_type": "code",
   "execution_count": 33,
   "metadata": {},
   "outputs": [
    {
     "name": "stdout",
     "output_type": "stream",
     "text": [
      "10000 loops, best of 3: 24.2 µs per loop\n"
     ]
    }
   ],
   "source": [
    "%%timeit \n",
    "\n",
    "def lj(r, rm, depth):\n",
    "#     rmr = rm/r\n",
    "    #return depth * (rmr**6 - 2*rmr**12)\n",
    "\n",
    "    \n",
    "    #r**12 = r**6 * r**6 \n",
    "    r6 = (rm/r)**6\n",
    "    return depth * r6 * (1 - 2*r6)\n",
    "\n",
    "\n",
    "xvals = np.linspace(1.96, 6, 50) \n",
    "yvals = lj(xvals, 1.96, 0.09) \n",
    "\n",
    "# performance evaluation "
   ]
  },
  {
   "cell_type": "code",
   "execution_count": 37,
   "metadata": {},
   "outputs": [
    {
     "name": "stdout",
     "output_type": "stream",
     "text": [
      "10000 loops, best of 3: 27.4 µs per loop\n"
     ]
    }
   ],
   "source": [
    "%%timeit \n",
    "\n",
    "def lj(r, rm, depth):\n",
    "    rmr = rm/r\n",
    "    return depth * (rmr**6 - 2*rmr**12)\n",
    "\n",
    "    \n",
    "    #r**12 = r**6 * r**6 \n",
    "#     r6 = (rm/r)**6\n",
    "#     return depth * r6 * (1 - 2*r6)\n",
    "\n",
    "\n",
    "xvals = np.linspace(1.96, 6, 50) \n",
    "yvals = lj(xvals, 1.96, 0.09) \n",
    "\n",
    "# performance evaluation "
   ]
  },
  {
   "cell_type": "code",
   "execution_count": 38,
   "metadata": {},
   "outputs": [
    {
     "name": "stdout",
     "output_type": "stream",
     "text": [
      "10000 loops, best of 3: 33.3 µs per loop\n"
     ]
    }
   ],
   "source": [
    "%%timeit \n",
    "\n",
    "def lj(r, rm, depth):\n",
    "    rmr = rm/r\n",
    "    return depth * (rmr**6 - 2*rmr**6*rmr**6)\n",
    "\n",
    "    \n",
    "    #r**12 = r**6 * r**6 \n",
    "#     r6 = (rm/r)**6\n",
    "#     return depth * r6 * (1 - 2*r6)\n",
    "\n",
    "\n",
    "xvals = np.linspace(1.96, 6, 50) \n",
    "yvals = lj(xvals, 1.96, 0.09) \n",
    "\n",
    "# performance evaluation "
   ]
  },
  {
   "cell_type": "code",
   "execution_count": 45,
   "metadata": {},
   "outputs": [
    {
     "name": "stdout",
     "output_type": "stream",
     "text": [
      "10000 loops, best of 3: 28.6 µs per loop\n"
     ]
    }
   ],
   "source": [
    "%%timeit \n",
    "\n",
    "def lj(r, rm, depth):\n",
    "    return depth * ((rm/r)**6 - 2*(rm/r)**12)\n",
    "\n",
    "xvals = np.linspace(1.96, 6, 50) \n",
    "yvals = lj(xvals, 1.96, 0.09) \n",
    "\n",
    "# performance evaluation "
   ]
  },
  {
   "cell_type": "code",
   "execution_count": 40,
   "metadata": {
    "collapsed": true
   },
   "outputs": [],
   "source": [
    "xvals = np.linspace(1.96, 6, 50) \n",
    "yvals = lj(xvals, 1.96, 0.09) "
   ]
  },
  {
   "cell_type": "code",
   "execution_count": 43,
   "metadata": {},
   "outputs": [
    {
     "data": {
      "text/plain": [
       "[<matplotlib.text.Text at 0x114809160>, <matplotlib.text.Text at 0x11468ceb8>]"
      ]
     },
     "execution_count": 43,
     "metadata": {},
     "output_type": "execute_result"
    },
    {
     "data": {
      "image/png": "[encoded data removed]",
      "text/plain": [
       "<matplotlib.figure.Figure at 0x1147d7c18>"
      ]
     },
     "metadata": {},
     "output_type": "display_data"
    }
   ],
   "source": [
    "fig, ax = plt.subplots()\n",
    "ax.plot(xvals, -yvals)\n",
    "ax.set(xlabel='Interatomic distance', ylabel='Lennard-Jones potential energy')"
   ]
  },
  {
   "cell_type": "code",
   "execution_count": 8,
   "metadata": {},
   "outputs": [
    {
     "ename": "AttributeError",
     "evalue": "'str' object has no attribute 'str'",
     "output_type": "error",
     "traceback": [
      "\u001b[0;31m---------------------------------------------------------------------------\u001b[0m",
      "\u001b[0;31mAttributeError\u001b[0m                            Traceback (most recent call last)",
      "\u001b[0;32m<ipython-input-8-78f12cbfc733>\u001b[0m in \u001b[0;36m<module>\u001b[0;34m()\u001b[0m\n\u001b[1;32m      2\u001b[0m \u001b[0mdata\u001b[0m \u001b[0;34m=\u001b[0m \u001b[0;34m[\u001b[0m\u001b[0;34m]\u001b[0m\u001b[0;34m\u001b[0m\u001b[0m\n\u001b[1;32m      3\u001b[0m \u001b[0;32mfor\u001b[0m \u001b[0midx\u001b[0m\u001b[0;34m,\u001b[0m \u001b[0mrow\u001b[0m \u001b[0;32min\u001b[0m \u001b[0mdf\u001b[0m\u001b[0;34m.\u001b[0m\u001b[0miloc\u001b[0m\u001b[0;34m[\u001b[0m\u001b[0;36m0\u001b[0m\u001b[0;34m:\u001b[0m\u001b[0;36m28\u001b[0m\u001b[0;34m,\u001b[0m \u001b[0;34m]\u001b[0m\u001b[0;34m.\u001b[0m\u001b[0miterrows\u001b[0m\u001b[0;34m(\u001b[0m\u001b[0;34m)\u001b[0m\u001b[0;34m:\u001b[0m\u001b[0;34m\u001b[0m\u001b[0m\n\u001b[0;32m----> 4\u001b[0;31m     \u001b[0mname\u001b[0m\u001b[0;34m,\u001b[0m \u001b[0melement\u001b[0m\u001b[0;34m,\u001b[0m \u001b[0mradius\u001b[0m\u001b[0;34m,\u001b[0m \u001b[0mwell_depth\u001b[0m\u001b[0;34m,\u001b[0m \u001b[0mdgfree\u001b[0m\u001b[0;34m,\u001b[0m \u001b[0mlamb\u001b[0m\u001b[0;34m,\u001b[0m \u001b[0mvolume\u001b[0m\u001b[0;34m,\u001b[0m \u001b[0;34m*\u001b[0m\u001b[0mrest\u001b[0m \u001b[0;34m=\u001b[0m \u001b[0mrow\u001b[0m\u001b[0;34m[\u001b[0m\u001b[0;34m'cat'\u001b[0m\u001b[0;34m]\u001b[0m\u001b[0;34m.\u001b[0m\u001b[0mstr\u001b[0m\u001b[0;34m.\u001b[0m\u001b[0msplit\u001b[0m\u001b[0;34m(\u001b[0m\u001b[0;34m)\u001b[0m\u001b[0;34m\u001b[0m\u001b[0m\n\u001b[0m\u001b[1;32m      5\u001b[0m     \u001b[0mpkg\u001b[0m \u001b[0;34m=\u001b[0m \u001b[0mname\u001b[0m\u001b[0;34m,\u001b[0m \u001b[0melement\u001b[0m\u001b[0;34m,\u001b[0m \u001b[0mradius\u001b[0m\u001b[0;34m,\u001b[0m \u001b[0mwell_depth\u001b[0m\u001b[0;34m,\u001b[0m \u001b[0mdgfree\u001b[0m\u001b[0;34m,\u001b[0m \u001b[0mvolume\u001b[0m\u001b[0;34m\u001b[0m\u001b[0m\n\u001b[1;32m      6\u001b[0m     \u001b[0mdata\u001b[0m\u001b[0;34m.\u001b[0m\u001b[0mappend\u001b[0m\u001b[0;34m(\u001b[0m\u001b[0mpkg\u001b[0m\u001b[0;34m)\u001b[0m\u001b[0;34m\u001b[0m\u001b[0m\n",
      "\u001b[0;31mAttributeError\u001b[0m: 'str' object has no attribute 'str'"
     ]
    }
   ],
   "source": [
    "\n",
    "data = []\n",
    "for idx, row in df.iloc[0:28, ].iterrows():\n",
    "    name, element, radius, well_depth, dgfree, lamb, volume, *rest = row['cat'].str.split()\n",
    "    pkg = name, element, radius, well_depth, dgfree, volume\n",
    "    data.append(pkg) \n",
    "    \n",
    "cols = 'name, element, radius, well_depth, dgfree, volume'.split(', ')\n",
    "df = pandas.DataFrame(data, columns=cols)\n",
    "df"
   ]
  },
  {
   "cell_type": "code",
   "execution_count": null,
   "metadata": {
    "collapsed": true
   },
   "outputs": [],
   "source": []
  }
 ],
 "metadata": {
  "kernelspec": {
   "display_name": "Python [conda root]",
   "language": "python",
   "name": "conda-root-py"
  },
  "language_info": {
   "codemirror_mode": {
    "name": "ipython",
    "version": 3
   },
   "file_extension": ".py",
   "mimetype": "text/x-python",
   "name": "python",
   "nbconvert_exporter": "python",
   "pygments_lexer": "ipython3",
   "version": "3.6.4"
  }
 },
 "nbformat": 4,
 "nbformat_minor": 2
}
