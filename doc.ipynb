{
 "cells": [
  {
   "cell_type": "markdown",
   "metadata": {},
   "source": [
    "# Molecular modeling  \n",
    "\n",
    "## About molecular modeling  \n",
    "\n",
    "## How molecular modeling works \n",
    "\n",
    "### The `Pose` object \n",
    "\n",
    "The pose object holds all of the information for a protein structure, including conformation and scoring. \n",
    "\n",
    "### Scoring\n",
    "\n",
    "#### Atom-level scoring \n",
    "\n",
    "There are four fundemental forces at play for molecules. Gravity, strong nuclear, electroweak we ignore. That leaves electrostatics. \n",
    "\n",
    "##### Coulomb forces \n",
    "\n",
    "Functional form \n",
    "\n",
    "$$G\\frac{q_1q_2}{r^2}$$\n",
    "\n",
    "##### Lennard–Jones potential \n",
    "\n",
    "Functional form \n",
    "\n",
    "$$\n",
    "\\epsilon [(\\frac{r_m}{r})^6 - 2(\\frac{r_m}{r})^{12}]\n",
    "$$"
   ]
  },
  {
   "cell_type": "code",
   "execution_count": null,
   "metadata": {
    "collapsed": true
   },
   "outputs": [],
   "source": []
  }
 ],
 "metadata": {
  "kernelspec": {
   "display_name": "Python [conda root]",
   "language": "python",
   "name": "conda-root-py"
  },
  "language_info": {
   "codemirror_mode": {
    "name": "ipython",
    "version": 3
   },
   "file_extension": ".py",
   "mimetype": "text/x-python",
   "name": "python",
   "nbconvert_exporter": "python",
   "pygments_lexer": "ipython3",
   "version": "3.6.0"
  }
 },
 "nbformat": 4,
 "nbformat_minor": 2
}
